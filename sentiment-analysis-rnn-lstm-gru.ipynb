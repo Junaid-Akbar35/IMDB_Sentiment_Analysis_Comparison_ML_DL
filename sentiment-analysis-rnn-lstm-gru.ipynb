{
 "cells": [
  {
   "cell_type": "markdown",
   "id": "18fae0d6",
   "metadata": {
    "papermill": {
     "duration": 0.004423,
     "end_time": "2025-06-22T16:33:05.285385",
     "exception": false,
     "start_time": "2025-06-22T16:33:05.280962",
     "status": "completed"
    },
    "tags": []
   },
   "source": [
    "# 📘 Sentiment Analysis of IMDB Movie Reviews using Traditional ML and Deep Learning (RNN, LSTM, GRU)\n",
    "### 👨‍💻 About Me¶\n",
    "**Junaid Akbar** — Data Science & Machine Learning Enthusiast\n",
    "\n",
    "**📎 Connect with me**:\n",
    "\n",
    "* 🔗 [LinkedIn](https://www.linkedin.com/in/Junaid-Akbar)\n",
    "* 💻 [GitHub](https://https://github.com/Junaid-Akbar35)\n",
    "*  📧 [Email](mja.awan35@gmail.com)\n",
    "\n",
    "### 📂 Project Description\n",
    "\n",
    "- **Dataset**: ✅ Kaggle’s **IMDB Dataset of 50K Movie Reviews**\n",
    "\n",
    "- **Objective**: Predict movie sentiment **(Positive/Negative)**\n",
    "\n",
    "- **Models**: **TF-IDF + Classical ML | Deep Learning (RNN, LSTM, GRU)**\n",
    "\n",
    "- **Enhancements**: **Overfitting prevention + GridSearchCV tuning**\n",
    "\n",
    "\n",
    "## 📦 1. Imports & Setup"
   ]
  },
  {
   "cell_type": "code",
   "execution_count": 1,
   "id": "5cbc2b05",
   "metadata": {
    "execution": {
     "iopub.execute_input": "2025-06-22T16:33:05.293628Z",
     "iopub.status.busy": "2025-06-22T16:33:05.293423Z",
     "iopub.status.idle": "2025-06-22T16:33:21.583014Z",
     "shell.execute_reply": "2025-06-22T16:33:21.582234Z"
    },
    "papermill": {
     "duration": 16.295313,
     "end_time": "2025-06-22T16:33:21.584405",
     "exception": false,
     "start_time": "2025-06-22T16:33:05.289092",
     "status": "completed"
    },
    "tags": []
   },
   "outputs": [
    {
     "name": "stderr",
     "output_type": "stream",
     "text": [
      "2025-06-22 16:33:10.317838: E external/local_xla/xla/stream_executor/cuda/cuda_fft.cc:477] Unable to register cuFFT factory: Attempting to register factory for plugin cuFFT when one has already been registered\n",
      "WARNING: All log messages before absl::InitializeLog() is called are written to STDERR\n",
      "E0000 00:00:1750609990.516575      19 cuda_dnn.cc:8310] Unable to register cuDNN factory: Attempting to register factory for plugin cuDNN when one has already been registered\n",
      "E0000 00:00:1750609990.570832      19 cuda_blas.cc:1418] Unable to register cuBLAS factory: Attempting to register factory for plugin cuBLAS when one has already been registered\n"
     ]
    }
   ],
   "source": [
    "# 📂 1. Imports\n",
    "import numpy as np\n",
    "import pandas as pd\n",
    "import matplotlib.pyplot as plt\n",
    "import seaborn as sns\n",
    "\n",
    "from sklearn.model_selection import train_test_split, GridSearchCV\n",
    "from sklearn.feature_extraction.text import TfidfVectorizer\n",
    "from sklearn.linear_model import LogisticRegression\n",
    "from sklearn.naive_bayes import MultinomialNB\n",
    "from sklearn.ensemble import RandomForestClassifier\n",
    "from sklearn.metrics import accuracy_score, classification_report\n",
    "\n",
    "import tensorflow as tf\n",
    "from tensorflow.keras.models import Sequential\n",
    "from tensorflow.keras.layers import Embedding, SimpleRNN, LSTM, GRU, Dense, Dropout\n",
    "from tensorflow.keras.preprocessing.text import Tokenizer\n",
    "from tensorflow.keras.preprocessing.sequence import pad_sequences\n",
    "from tensorflow.keras.callbacks import EarlyStopping\n"
   ]
  },
  {
   "cell_type": "markdown",
   "id": "b4ae9f61",
   "metadata": {
    "papermill": {
     "duration": 0.003524,
     "end_time": "2025-06-22T16:33:21.591883",
     "exception": false,
     "start_time": "2025-06-22T16:33:21.588359",
     "status": "completed"
    },
    "tags": []
   },
   "source": [
    "## 📥 2. Dataset Loading"
   ]
  },
  {
   "cell_type": "code",
   "execution_count": 2,
   "id": "55794693",
   "metadata": {
    "execution": {
     "iopub.execute_input": "2025-06-22T16:33:21.599945Z",
     "iopub.status.busy": "2025-06-22T16:33:21.599518Z",
     "iopub.status.idle": "2025-06-22T16:33:23.271112Z",
     "shell.execute_reply": "2025-06-22T16:33:23.270323Z"
    },
    "papermill": {
     "duration": 1.676989,
     "end_time": "2025-06-22T16:33:23.272369",
     "exception": false,
     "start_time": "2025-06-22T16:33:21.595380",
     "status": "completed"
    },
    "tags": []
   },
   "outputs": [
    {
     "data": {
      "text/html": [
       "<div>\n",
       "<style scoped>\n",
       "    .dataframe tbody tr th:only-of-type {\n",
       "        vertical-align: middle;\n",
       "    }\n",
       "\n",
       "    .dataframe tbody tr th {\n",
       "        vertical-align: top;\n",
       "    }\n",
       "\n",
       "    .dataframe thead th {\n",
       "        text-align: right;\n",
       "    }\n",
       "</style>\n",
       "<table border=\"1\" class=\"dataframe\">\n",
       "  <thead>\n",
       "    <tr style=\"text-align: right;\">\n",
       "      <th></th>\n",
       "      <th>review</th>\n",
       "      <th>sentiment</th>\n",
       "    </tr>\n",
       "  </thead>\n",
       "  <tbody>\n",
       "    <tr>\n",
       "      <th>0</th>\n",
       "      <td>One of the other reviewers has mentioned that ...</td>\n",
       "      <td>1</td>\n",
       "    </tr>\n",
       "    <tr>\n",
       "      <th>1</th>\n",
       "      <td>A wonderful little production. &lt;br /&gt;&lt;br /&gt;The...</td>\n",
       "      <td>1</td>\n",
       "    </tr>\n",
       "    <tr>\n",
       "      <th>2</th>\n",
       "      <td>I thought this was a wonderful way to spend ti...</td>\n",
       "      <td>1</td>\n",
       "    </tr>\n",
       "    <tr>\n",
       "      <th>3</th>\n",
       "      <td>Basically there's a family where a little boy ...</td>\n",
       "      <td>0</td>\n",
       "    </tr>\n",
       "    <tr>\n",
       "      <th>4</th>\n",
       "      <td>Petter Mattei's \"Love in the Time of Money\" is...</td>\n",
       "      <td>1</td>\n",
       "    </tr>\n",
       "  </tbody>\n",
       "</table>\n",
       "</div>"
      ],
      "text/plain": [
       "                                              review  sentiment\n",
       "0  One of the other reviewers has mentioned that ...          1\n",
       "1  A wonderful little production. <br /><br />The...          1\n",
       "2  I thought this was a wonderful way to spend ti...          1\n",
       "3  Basically there's a family where a little boy ...          0\n",
       "4  Petter Mattei's \"Love in the Time of Money\" is...          1"
      ]
     },
     "execution_count": 2,
     "metadata": {},
     "output_type": "execute_result"
    }
   ],
   "source": [
    "# 📥 2. Load Dataset\n",
    "df = pd.read_csv('/kaggle/input/imdb-dataset-of-50k-movie-reviews/IMDB Dataset.csv')\n",
    "df['sentiment'] = df['sentiment'].map({'positive':1, 'negative':0})\n",
    "df.head()"
   ]
  },
  {
   "cell_type": "markdown",
   "id": "e771c5d5",
   "metadata": {
    "papermill": {
     "duration": 0.003927,
     "end_time": "2025-06-22T16:33:23.280400",
     "exception": false,
     "start_time": "2025-06-22T16:33:23.276473",
     "status": "completed"
    },
    "tags": []
   },
   "source": [
    "### 📝 Dataset Overview\n",
    "**Column**\t**Description**\n",
    "- **review**:\tFull text movie review\n",
    "- **sentiment**:\tSentiment (positive/negative)"
   ]
  },
  {
   "cell_type": "markdown",
   "id": "a2b4cf16",
   "metadata": {
    "papermill": {
     "duration": 0.003579,
     "end_time": "2025-06-22T16:33:23.287660",
     "exception": false,
     "start_time": "2025-06-22T16:33:23.284081",
     "status": "completed"
    },
    "tags": []
   },
   "source": [
    "## 🧹 3. Data Preprocessing for Deep Learning Models"
   ]
  },
  {
   "cell_type": "code",
   "execution_count": 3,
   "id": "65c2574d",
   "metadata": {
    "execution": {
     "iopub.execute_input": "2025-06-22T16:33:23.295835Z",
     "iopub.status.busy": "2025-06-22T16:33:23.295621Z",
     "iopub.status.idle": "2025-06-22T16:33:29.229144Z",
     "shell.execute_reply": "2025-06-22T16:33:29.228543Z"
    },
    "papermill": {
     "duration": 5.939184,
     "end_time": "2025-06-22T16:33:29.230483",
     "exception": false,
     "start_time": "2025-06-22T16:33:23.291299",
     "status": "completed"
    },
    "tags": []
   },
   "outputs": [],
   "source": [
    "# 🧹 3. Preprocessing\n",
    "X = df['review']\n",
    "y = df['sentiment']\n",
    "\n",
    "X_train_text, X_test_text, y_train, y_test = train_test_split(X, y, test_size=0.2, stratify=y, random_state=42)\n",
    "\n",
    "# TF-IDF Vectorization for ML Models\n",
    "tfidf = TfidfVectorizer(max_features=10000, stop_words='english')\n",
    "X_train_tfidf = tfidf.fit_transform(X_train_text)\n",
    "X_test_tfidf = tfidf.transform(X_test_text)\n"
   ]
  },
  {
   "cell_type": "markdown",
   "id": "b168386b",
   "metadata": {
    "papermill": {
     "duration": 0.00369,
     "end_time": "2025-06-22T16:33:29.238317",
     "exception": false,
     "start_time": "2025-06-22T16:33:29.234627",
     "status": "completed"
    },
    "tags": []
   },
   "source": [
    "## 🎯 4. Traditional Machine Learning with GridSearchCV"
   ]
  },
  {
   "cell_type": "code",
   "execution_count": 4,
   "id": "34db5f5b",
   "metadata": {
    "execution": {
     "iopub.execute_input": "2025-06-22T16:33:29.246624Z",
     "iopub.status.busy": "2025-06-22T16:33:29.246398Z",
     "iopub.status.idle": "2025-06-22T16:33:30.278340Z",
     "shell.execute_reply": "2025-06-22T16:33:30.277564Z"
    },
    "papermill": {
     "duration": 1.037431,
     "end_time": "2025-06-22T16:33:30.279439",
     "exception": false,
     "start_time": "2025-06-22T16:33:29.242008",
     "status": "completed"
    },
    "tags": []
   },
   "outputs": [
    {
     "name": "stdout",
     "output_type": "stream",
     "text": [
      "Num GPUs Available:  2\n",
      "[PhysicalDevice(name='/physical_device:GPU:0', device_type='GPU'), PhysicalDevice(name='/physical_device:GPU:1', device_type='GPU')]\n",
      "Using GPU: [PhysicalDevice(name='/physical_device:GPU:0', device_type='GPU'), PhysicalDevice(name='/physical_device:GPU:1', device_type='GPU')]\n"
     ]
    }
   ],
   "source": [
    "import tensorflow as tf\n",
    "\n",
    "# List available devices (optional)\n",
    "print(\"Num GPUs Available: \", len(tf.config.list_physical_devices('GPU')))\n",
    "print(tf.config.list_physical_devices('GPU'))\n",
    "\n",
    "# Force TensorFlow to use GPU only\n",
    "gpus = tf.config.list_physical_devices('GPU')\n",
    "if gpus:\n",
    "    try:\n",
    "        # Restrict TensorFlow to only allocate necessary GPU memory\n",
    "        for gpu in gpus:\n",
    "            tf.config.experimental.set_memory_growth(gpu, True)\n",
    "        tf.config.set_visible_devices(gpus, 'GPU')\n",
    "        print(\"Using GPU:\", gpus)\n",
    "    except RuntimeError as e:\n",
    "        print(e)\n",
    "else:\n",
    "    print(\"No GPU found. Using CPU.\")\n"
   ]
  },
  {
   "cell_type": "markdown",
   "id": "670ef45a",
   "metadata": {
    "papermill": {
     "duration": 0.003721,
     "end_time": "2025-06-22T16:33:30.287691",
     "exception": false,
     "start_time": "2025-06-22T16:33:30.283970",
     "status": "completed"
    },
    "tags": []
   },
   "source": [
    "### ✅ 4.1 Logistic Regression"
   ]
  },
  {
   "cell_type": "code",
   "execution_count": 5,
   "id": "6862225f",
   "metadata": {
    "execution": {
     "iopub.execute_input": "2025-06-22T16:33:30.295885Z",
     "iopub.status.busy": "2025-06-22T16:33:30.295684Z",
     "iopub.status.idle": "2025-06-22T16:33:35.180689Z",
     "shell.execute_reply": "2025-06-22T16:33:35.179972Z"
    },
    "papermill": {
     "duration": 4.891184,
     "end_time": "2025-06-22T16:33:35.182545",
     "exception": false,
     "start_time": "2025-06-22T16:33:30.291361",
     "status": "completed"
    },
    "tags": []
   },
   "outputs": [],
   "source": [
    "# Logistic Regression (Tuned)\n",
    "params_lr = {'C': [0.01, 0.1, 1, 10], 'penalty': ['l2'], 'solver': ['liblinear']}\n",
    "grid_lr = GridSearchCV(LogisticRegression(max_iter=1000), params_lr, cv=3, scoring='accuracy', n_jobs=-1)\n",
    "grid_lr.fit(X_train_tfidf, y_train)\n",
    "pred_lr = grid_lr.predict(X_test_tfidf)\n"
   ]
  },
  {
   "cell_type": "markdown",
   "id": "ae441d89",
   "metadata": {
    "papermill": {
     "duration": 0.006121,
     "end_time": "2025-06-22T16:33:35.195500",
     "exception": false,
     "start_time": "2025-06-22T16:33:35.189379",
     "status": "completed"
    },
    "tags": []
   },
   "source": [
    "### ✅ 4.2 Naive Bayes"
   ]
  },
  {
   "cell_type": "code",
   "execution_count": 6,
   "id": "4a910c4b",
   "metadata": {
    "execution": {
     "iopub.execute_input": "2025-06-22T16:33:35.209000Z",
     "iopub.status.busy": "2025-06-22T16:33:35.208504Z",
     "iopub.status.idle": "2025-06-22T16:33:35.621617Z",
     "shell.execute_reply": "2025-06-22T16:33:35.621005Z"
    },
    "papermill": {
     "duration": 0.421236,
     "end_time": "2025-06-22T16:33:35.622923",
     "exception": false,
     "start_time": "2025-06-22T16:33:35.201687",
     "status": "completed"
    },
    "tags": []
   },
   "outputs": [],
   "source": [
    "# Naive Bayes (Tuned)\n",
    "params_nb = {'alpha': [0.1, 0.5, 1.0]}\n",
    "grid_nb = GridSearchCV(MultinomialNB(), params_nb, cv=3, scoring='accuracy', n_jobs=-1)\n",
    "grid_nb.fit(X_train_tfidf, y_train)\n",
    "pred_nb = grid_nb.predict(X_test_tfidf)"
   ]
  },
  {
   "cell_type": "markdown",
   "id": "fcbf4d84",
   "metadata": {
    "papermill": {
     "duration": 0.003693,
     "end_time": "2025-06-22T16:33:35.631416",
     "exception": false,
     "start_time": "2025-06-22T16:33:35.627723",
     "status": "completed"
    },
    "tags": []
   },
   "source": [
    "### ✅ 4.3 Random Forest"
   ]
  },
  {
   "cell_type": "code",
   "execution_count": 7,
   "id": "2da8990c",
   "metadata": {
    "execution": {
     "iopub.execute_input": "2025-06-22T16:33:35.639867Z",
     "iopub.status.busy": "2025-06-22T16:33:35.639429Z",
     "iopub.status.idle": "2025-06-22T16:34:38.253651Z",
     "shell.execute_reply": "2025-06-22T16:34:38.252827Z"
    },
    "papermill": {
     "duration": 62.620084,
     "end_time": "2025-06-22T16:34:38.255187",
     "exception": false,
     "start_time": "2025-06-22T16:33:35.635103",
     "status": "completed"
    },
    "tags": []
   },
   "outputs": [
    {
     "name": "stdout",
     "output_type": "stream",
     "text": [
      "Fitting 3 folds for each of 4 candidates, totalling 12 fits\n"
     ]
    }
   ],
   "source": [
    "# Random Forest (Tuned)\n",
    "params_rf = {'n_estimators': [100, 200], 'max_depth': [10, 20]}\n",
    "grid_rf = GridSearchCV(RandomForestClassifier(random_state=42), params_rf, cv=3,  verbose=3 , scoring='accuracy', n_jobs=-1)\n",
    "grid_rf.fit(X_train_tfidf, y_train)\n",
    "pred_rf = grid_rf.predict(X_test_tfidf)"
   ]
  },
  {
   "cell_type": "markdown",
   "id": "5e66c749",
   "metadata": {
    "papermill": {
     "duration": 0.00381,
     "end_time": "2025-06-22T16:34:38.263378",
     "exception": false,
     "start_time": "2025-06-22T16:34:38.259568",
     "status": "completed"
    },
    "tags": []
   },
   "source": [
    "### 📊 ML Models Evaluation"
   ]
  },
  {
   "cell_type": "code",
   "execution_count": 8,
   "id": "337d638a",
   "metadata": {
    "execution": {
     "iopub.execute_input": "2025-06-22T16:34:38.272170Z",
     "iopub.status.busy": "2025-06-22T16:34:38.271699Z",
     "iopub.status.idle": "2025-06-22T16:34:38.278872Z",
     "shell.execute_reply": "2025-06-22T16:34:38.278194Z"
    },
    "papermill": {
     "duration": 0.012685,
     "end_time": "2025-06-22T16:34:38.279955",
     "exception": false,
     "start_time": "2025-06-22T16:34:38.267270",
     "status": "completed"
    },
    "tags": []
   },
   "outputs": [
    {
     "name": "stdout",
     "output_type": "stream",
     "text": [
      "Logistic Regression Accuracy: 0.8968\n",
      "Naive Bayes Accuracy: 0.858\n",
      "Random Forest Accuracy: 0.8444\n"
     ]
    }
   ],
   "source": [
    "print(\"Logistic Regression Accuracy:\", accuracy_score(y_test, pred_lr))\n",
    "print(\"Naive Bayes Accuracy:\", accuracy_score(y_test, pred_nb))\n",
    "print(\"Random Forest Accuracy:\", accuracy_score(y_test, pred_rf))"
   ]
  },
  {
   "cell_type": "markdown",
   "id": "12364018",
   "metadata": {
    "papermill": {
     "duration": 0.003801,
     "end_time": "2025-06-22T16:34:38.287626",
     "exception": false,
     "start_time": "2025-06-22T16:34:38.283825",
     "status": "completed"
    },
    "tags": []
   },
   "source": [
    "## ✅ 5. Deep Learning: Tokenization + Padding"
   ]
  },
  {
   "cell_type": "code",
   "execution_count": 9,
   "id": "a8333f76",
   "metadata": {
    "execution": {
     "iopub.execute_input": "2025-06-22T16:34:38.296079Z",
     "iopub.status.busy": "2025-06-22T16:34:38.295857Z",
     "iopub.status.idle": "2025-06-22T16:34:47.710935Z",
     "shell.execute_reply": "2025-06-22T16:34:47.710358Z"
    },
    "papermill": {
     "duration": 9.420791,
     "end_time": "2025-06-22T16:34:47.712264",
     "exception": false,
     "start_time": "2025-06-22T16:34:38.291473",
     "status": "completed"
    },
    "tags": []
   },
   "outputs": [],
   "source": [
    "max_words = 20000\n",
    "maxlen = 200\n",
    "\n",
    "tokenizer = Tokenizer(num_words=max_words)\n",
    "tokenizer.fit_on_texts(X_train_text)\n",
    "\n",
    "X_train_seq = tokenizer.texts_to_sequences(X_train_text)\n",
    "X_test_seq = tokenizer.texts_to_sequences(X_test_text)\n",
    "\n",
    "X_train_pad = pad_sequences(X_train_seq, maxlen=maxlen)\n",
    "X_test_pad = pad_sequences(X_test_seq, maxlen=maxlen)\n",
    "\n",
    "early_stop = EarlyStopping(monitor='val_loss', patience=2)"
   ]
  },
  {
   "cell_type": "markdown",
   "id": "3cc60200",
   "metadata": {
    "papermill": {
     "duration": 0.003999,
     "end_time": "2025-06-22T16:34:47.720511",
     "exception": false,
     "start_time": "2025-06-22T16:34:47.716512",
     "status": "completed"
    },
    "tags": []
   },
   "source": [
    "## 🧠 6. Deep Learning Models (RNN, LSTM, GRU with Dropout)"
   ]
  },
  {
   "cell_type": "markdown",
   "id": "e2f75ab4",
   "metadata": {
    "papermill": {
     "duration": 0.003727,
     "end_time": "2025-06-22T16:34:47.728115",
     "exception": false,
     "start_time": "2025-06-22T16:34:47.724388",
     "status": "completed"
    },
    "tags": []
   },
   "source": [
    "### 🔁 5.1 Train RNN"
   ]
  },
  {
   "cell_type": "code",
   "execution_count": 10,
   "id": "89e73ee6",
   "metadata": {
    "execution": {
     "iopub.execute_input": "2025-06-22T16:34:47.736649Z",
     "iopub.status.busy": "2025-06-22T16:34:47.736428Z",
     "iopub.status.idle": "2025-06-22T16:35:10.368197Z",
     "shell.execute_reply": "2025-06-22T16:35:10.367549Z"
    },
    "papermill": {
     "duration": 22.637588,
     "end_time": "2025-06-22T16:35:10.369482",
     "exception": false,
     "start_time": "2025-06-22T16:34:47.731894",
     "status": "completed"
    },
    "tags": []
   },
   "outputs": [
    {
     "name": "stderr",
     "output_type": "stream",
     "text": [
      "/usr/local/lib/python3.11/dist-packages/keras/src/layers/core/embedding.py:90: UserWarning: Argument `input_length` is deprecated. Just remove it.\n",
      "  warnings.warn(\n"
     ]
    },
    {
     "name": "stdout",
     "output_type": "stream",
     "text": [
      "Epoch 1/4\n"
     ]
    },
    {
     "name": "stderr",
     "output_type": "stream",
     "text": [
      "I0000 00:00:1750610087.998311      19 gpu_device.cc:2022] Created device /job:localhost/replica:0/task:0/device:GPU:0 with 13942 MB memory:  -> device: 0, name: Tesla T4, pci bus id: 0000:00:04.0, compute capability: 7.5\n",
      "I0000 00:00:1750610087.999015      19 gpu_device.cc:2022] Created device /job:localhost/replica:0/task:0/device:GPU:1 with 13942 MB memory:  -> device: 1, name: Tesla T4, pci bus id: 0000:00:05.0, compute capability: 7.5\n",
      "WARNING: All log messages before absl::InitializeLog() is called are written to STDERR\n",
      "I0000 00:00:1750610090.820440      73 service.cc:148] XLA service 0x7be6d0004560 initialized for platform CUDA (this does not guarantee that XLA will be used). Devices:\n",
      "I0000 00:00:1750610090.821019      73 service.cc:156]   StreamExecutor device (0): Tesla T4, Compute Capability 7.5\n",
      "I0000 00:00:1750610090.821047      73 service.cc:156]   StreamExecutor device (1): Tesla T4, Compute Capability 7.5\n",
      "I0000 00:00:1750610091.207785      73 cuda_dnn.cc:529] Loaded cuDNN version 90300\n"
     ]
    },
    {
     "name": "stdout",
     "output_type": "stream",
     "text": [
      "\u001b[1m  7/250\u001b[0m \u001b[37m━━━━━━━━━━━━━━━━━━━━\u001b[0m \u001b[1m4s\u001b[0m 20ms/step - accuracy: 0.4987 - loss: 0.7015"
     ]
    },
    {
     "name": "stderr",
     "output_type": "stream",
     "text": [
      "I0000 00:00:1750610092.861129      73 device_compiler.h:188] Compiled cluster using XLA!  This line is logged at most once for the lifetime of the process.\n"
     ]
    },
    {
     "name": "stdout",
     "output_type": "stream",
     "text": [
      "\u001b[1m250/250\u001b[0m \u001b[32m━━━━━━━━━━━━━━━━━━━━\u001b[0m\u001b[37m\u001b[0m \u001b[1m10s\u001b[0m 20ms/step - accuracy: 0.5328 - loss: 0.6903 - val_accuracy: 0.7918 - val_loss: 0.4608\n",
      "Epoch 2/4\n",
      "\u001b[1m250/250\u001b[0m \u001b[32m━━━━━━━━━━━━━━━━━━━━\u001b[0m\u001b[37m\u001b[0m \u001b[1m4s\u001b[0m 16ms/step - accuracy: 0.7997 - loss: 0.4525 - val_accuracy: 0.8140 - val_loss: 0.4181\n",
      "Epoch 3/4\n",
      "\u001b[1m250/250\u001b[0m \u001b[32m━━━━━━━━━━━━━━━━━━━━\u001b[0m\u001b[37m\u001b[0m \u001b[1m4s\u001b[0m 16ms/step - accuracy: 0.8956 - loss: 0.2754 - val_accuracy: 0.8521 - val_loss: 0.3606\n",
      "Epoch 4/4\n",
      "\u001b[1m250/250\u001b[0m \u001b[32m━━━━━━━━━━━━━━━━━━━━\u001b[0m\u001b[37m\u001b[0m \u001b[1m4s\u001b[0m 16ms/step - accuracy: 0.9404 - loss: 0.1721 - val_accuracy: 0.8596 - val_loss: 0.3874\n"
     ]
    },
    {
     "data": {
      "text/plain": [
       "<keras.src.callbacks.history.History at 0x7be7d9be8c90>"
      ]
     },
     "execution_count": 10,
     "metadata": {},
     "output_type": "execute_result"
    }
   ],
   "source": [
    "# RNN\n",
    "def build_rnn():\n",
    "    model = Sequential([\n",
    "        Embedding(max_words, 32, input_length=maxlen),\n",
    "        SimpleRNN(64),\n",
    "        Dropout(0.5),\n",
    "        Dense(1, activation='sigmoid')\n",
    "    ])\n",
    "    model.compile(optimizer='adam', loss='binary_crossentropy', metrics=['accuracy'])\n",
    "    return model\n",
    "\n",
    "rnn_model = build_rnn()\n",
    "rnn_model.fit(X_train_pad, y_train, epochs=4, batch_size=128, validation_split=0.2, callbacks=[early_stop])\n"
   ]
  },
  {
   "cell_type": "markdown",
   "id": "f94f65d6",
   "metadata": {
    "papermill": {
     "duration": 0.014271,
     "end_time": "2025-06-22T16:35:10.399637",
     "exception": false,
     "start_time": "2025-06-22T16:35:10.385366",
     "status": "completed"
    },
    "tags": []
   },
   "source": [
    "### 🔁 5.2 Train LSTM"
   ]
  },
  {
   "cell_type": "code",
   "execution_count": 11,
   "id": "b9d3ed66",
   "metadata": {
    "execution": {
     "iopub.execute_input": "2025-06-22T16:35:10.428892Z",
     "iopub.status.busy": "2025-06-22T16:35:10.428672Z",
     "iopub.status.idle": "2025-06-22T16:35:33.658805Z",
     "shell.execute_reply": "2025-06-22T16:35:33.658048Z"
    },
    "papermill": {
     "duration": 23.246177,
     "end_time": "2025-06-22T16:35:33.660093",
     "exception": false,
     "start_time": "2025-06-22T16:35:10.413916",
     "status": "completed"
    },
    "tags": []
   },
   "outputs": [
    {
     "name": "stdout",
     "output_type": "stream",
     "text": [
      "Epoch 1/4\n",
      "\u001b[1m250/250\u001b[0m \u001b[32m━━━━━━━━━━━━━━━━━━━━\u001b[0m\u001b[37m\u001b[0m \u001b[1m11s\u001b[0m 20ms/step - accuracy: 0.7143 - loss: 0.5256 - val_accuracy: 0.8758 - val_loss: 0.2993\n",
      "Epoch 2/4\n",
      "\u001b[1m250/250\u001b[0m \u001b[32m━━━━━━━━━━━━━━━━━━━━\u001b[0m\u001b[37m\u001b[0m \u001b[1m4s\u001b[0m 16ms/step - accuracy: 0.9166 - loss: 0.2233 - val_accuracy: 0.8849 - val_loss: 0.2760\n",
      "Epoch 3/4\n",
      "\u001b[1m250/250\u001b[0m \u001b[32m━━━━━━━━━━━━━━━━━━━━\u001b[0m\u001b[37m\u001b[0m \u001b[1m4s\u001b[0m 17ms/step - accuracy: 0.9466 - loss: 0.1558 - val_accuracy: 0.8651 - val_loss: 0.3118\n",
      "Epoch 4/4\n",
      "\u001b[1m250/250\u001b[0m \u001b[32m━━━━━━━━━━━━━━━━━━━━\u001b[0m\u001b[37m\u001b[0m \u001b[1m4s\u001b[0m 16ms/step - accuracy: 0.9606 - loss: 0.1205 - val_accuracy: 0.8830 - val_loss: 0.3373\n"
     ]
    },
    {
     "data": {
      "text/plain": [
       "<keras.src.callbacks.history.History at 0x7be72a599690>"
      ]
     },
     "execution_count": 11,
     "metadata": {},
     "output_type": "execute_result"
    }
   ],
   "source": [
    "# LSTM\n",
    "def build_lstm():\n",
    "    model = Sequential([\n",
    "        Embedding(max_words, 32, input_length=maxlen),\n",
    "        LSTM(64, return_sequences=True),\n",
    "        Dropout(0.5),\n",
    "        LSTM(32),\n",
    "        Dropout(0.5),\n",
    "        Dense(1, activation='sigmoid')\n",
    "    ])\n",
    "    model.compile(optimizer='adam', loss='binary_crossentropy', metrics=['accuracy'])\n",
    "    return model\n",
    "\n",
    "lstm_model = build_lstm()\n",
    "lstm_model.fit(X_train_pad, y_train, epochs=4, batch_size=128, validation_split=0.2, callbacks=[early_stop])"
   ]
  },
  {
   "cell_type": "markdown",
   "id": "b84f96e3",
   "metadata": {
    "papermill": {
     "duration": 0.024238,
     "end_time": "2025-06-22T16:35:33.710686",
     "exception": false,
     "start_time": "2025-06-22T16:35:33.686448",
     "status": "completed"
    },
    "tags": []
   },
   "source": [
    "### 🔁 5.3 Train GRU"
   ]
  },
  {
   "cell_type": "code",
   "execution_count": 12,
   "id": "e225b14b",
   "metadata": {
    "execution": {
     "iopub.execute_input": "2025-06-22T16:35:33.761039Z",
     "iopub.status.busy": "2025-06-22T16:35:33.760777Z",
     "iopub.status.idle": "2025-06-22T16:35:53.584536Z",
     "shell.execute_reply": "2025-06-22T16:35:53.583886Z"
    },
    "papermill": {
     "duration": 19.850842,
     "end_time": "2025-06-22T16:35:53.585701",
     "exception": false,
     "start_time": "2025-06-22T16:35:33.734859",
     "status": "completed"
    },
    "tags": []
   },
   "outputs": [
    {
     "name": "stdout",
     "output_type": "stream",
     "text": [
      "Epoch 1/4\n",
      "\u001b[1m250/250\u001b[0m \u001b[32m━━━━━━━━━━━━━━━━━━━━\u001b[0m\u001b[37m\u001b[0m \u001b[1m8s\u001b[0m 18ms/step - accuracy: 0.6540 - loss: 0.5885 - val_accuracy: 0.8755 - val_loss: 0.2960\n",
      "Epoch 2/4\n",
      "\u001b[1m250/250\u001b[0m \u001b[32m━━━━━━━━━━━━━━━━━━━━\u001b[0m\u001b[37m\u001b[0m \u001b[1m4s\u001b[0m 16ms/step - accuracy: 0.9053 - loss: 0.2534 - val_accuracy: 0.8733 - val_loss: 0.2920\n",
      "Epoch 3/4\n",
      "\u001b[1m250/250\u001b[0m \u001b[32m━━━━━━━━━━━━━━━━━━━━\u001b[0m\u001b[37m\u001b[0m \u001b[1m4s\u001b[0m 16ms/step - accuracy: 0.9411 - loss: 0.1728 - val_accuracy: 0.8646 - val_loss: 0.3212\n",
      "Epoch 4/4\n",
      "\u001b[1m250/250\u001b[0m \u001b[32m━━━━━━━━━━━━━━━━━━━━\u001b[0m\u001b[37m\u001b[0m \u001b[1m4s\u001b[0m 16ms/step - accuracy: 0.9539 - loss: 0.1368 - val_accuracy: 0.8813 - val_loss: 0.3340\n"
     ]
    },
    {
     "data": {
      "text/plain": [
       "<keras.src.callbacks.history.History at 0x7be7280b33d0>"
      ]
     },
     "execution_count": 12,
     "metadata": {},
     "output_type": "execute_result"
    }
   ],
   "source": [
    "# GRU\n",
    "def build_gru():\n",
    "    model = Sequential([\n",
    "        Embedding(max_words, 32, input_length=maxlen),\n",
    "        GRU(64, return_sequences=True),\n",
    "        Dropout(0.5),\n",
    "        GRU(32),\n",
    "        Dropout(0.5),\n",
    "        Dense(1, activation='sigmoid')\n",
    "    ])\n",
    "    model.compile(optimizer='adam', loss='binary_crossentropy', metrics=['accuracy'])\n",
    "    return model\n",
    "\n",
    "gru_model = build_gru()\n",
    "gru_model.fit(X_train_pad, y_train, epochs=4, batch_size=128, validation_split=0.2, callbacks=[early_stop])"
   ]
  },
  {
   "cell_type": "markdown",
   "id": "d90a352a",
   "metadata": {
    "papermill": {
     "duration": 0.034955,
     "end_time": "2025-06-22T16:35:53.703400",
     "exception": false,
     "start_time": "2025-06-22T16:35:53.668445",
     "status": "completed"
    },
    "tags": []
   },
   "source": [
    "## 📊 7. Final Results Comparison"
   ]
  },
  {
   "cell_type": "code",
   "execution_count": 13,
   "id": "8ce8701c",
   "metadata": {
    "execution": {
     "iopub.execute_input": "2025-06-22T16:35:53.775855Z",
     "iopub.status.busy": "2025-06-22T16:35:53.775330Z",
     "iopub.status.idle": "2025-06-22T16:35:59.997172Z",
     "shell.execute_reply": "2025-06-22T16:35:59.996505Z"
    },
    "papermill": {
     "duration": 6.259389,
     "end_time": "2025-06-22T16:35:59.998292",
     "exception": false,
     "start_time": "2025-06-22T16:35:53.738903",
     "status": "completed"
    },
    "tags": []
   },
   "outputs": [
    {
     "data": {
      "text/html": [
       "<div>\n",
       "<style scoped>\n",
       "    .dataframe tbody tr th:only-of-type {\n",
       "        vertical-align: middle;\n",
       "    }\n",
       "\n",
       "    .dataframe tbody tr th {\n",
       "        vertical-align: top;\n",
       "    }\n",
       "\n",
       "    .dataframe thead th {\n",
       "        text-align: right;\n",
       "    }\n",
       "</style>\n",
       "<table border=\"1\" class=\"dataframe\">\n",
       "  <thead>\n",
       "    <tr style=\"text-align: right;\">\n",
       "      <th></th>\n",
       "      <th>Model</th>\n",
       "      <th>Accuracy</th>\n",
       "    </tr>\n",
       "  </thead>\n",
       "  <tbody>\n",
       "    <tr>\n",
       "      <th>0</th>\n",
       "      <td>Logistic Regression (Tuned)</td>\n",
       "      <td>0.8968</td>\n",
       "    </tr>\n",
       "    <tr>\n",
       "      <th>1</th>\n",
       "      <td>Naive Bayes (Tuned)</td>\n",
       "      <td>0.8580</td>\n",
       "    </tr>\n",
       "    <tr>\n",
       "      <th>2</th>\n",
       "      <td>Random Forest (Tuned)</td>\n",
       "      <td>0.8444</td>\n",
       "    </tr>\n",
       "    <tr>\n",
       "      <th>3</th>\n",
       "      <td>RNN (Dropout+EarlyStopping)</td>\n",
       "      <td>0.8519</td>\n",
       "    </tr>\n",
       "    <tr>\n",
       "      <th>4</th>\n",
       "      <td>LSTM (Dropout+EarlyStopping)</td>\n",
       "      <td>0.8837</td>\n",
       "    </tr>\n",
       "    <tr>\n",
       "      <th>5</th>\n",
       "      <td>GRU (Dropout+EarlyStopping)</td>\n",
       "      <td>0.8802</td>\n",
       "    </tr>\n",
       "  </tbody>\n",
       "</table>\n",
       "</div>"
      ],
      "text/plain": [
       "                          Model  Accuracy\n",
       "0   Logistic Regression (Tuned)    0.8968\n",
       "1           Naive Bayes (Tuned)    0.8580\n",
       "2         Random Forest (Tuned)    0.8444\n",
       "3   RNN (Dropout+EarlyStopping)    0.8519\n",
       "4  LSTM (Dropout+EarlyStopping)    0.8837\n",
       "5   GRU (Dropout+EarlyStopping)    0.8802"
      ]
     },
     "execution_count": 13,
     "metadata": {},
     "output_type": "execute_result"
    }
   ],
   "source": [
    "results = {\n",
    "    'Model': [\n",
    "        'Logistic Regression (Tuned)',\n",
    "        'Naive Bayes (Tuned)',\n",
    "        'Random Forest (Tuned)',\n",
    "        'RNN (Dropout+EarlyStopping)',\n",
    "        'LSTM (Dropout+EarlyStopping)',\n",
    "        'GRU (Dropout+EarlyStopping)'\n",
    "    ],\n",
    "    'Accuracy': [\n",
    "        accuracy_score(y_test, pred_lr),\n",
    "        accuracy_score(y_test, pred_nb),\n",
    "        accuracy_score(y_test, pred_rf),\n",
    "        rnn_model.evaluate(X_test_pad, y_test, verbose=0)[1],\n",
    "        lstm_model.evaluate(X_test_pad, y_test, verbose=0)[1],\n",
    "        gru_model.evaluate(X_test_pad, y_test, verbose=0)[1]\n",
    "    ]\n",
    "}\n",
    "\n",
    "results_df=pd.DataFrame(results)\n",
    "results_df"
   ]
  },
  {
   "cell_type": "markdown",
   "id": "d24507e5",
   "metadata": {
    "papermill": {
     "duration": 0.035246,
     "end_time": "2025-06-22T16:36:00.070796",
     "exception": false,
     "start_time": "2025-06-22T16:36:00.035550",
     "status": "completed"
    },
    "tags": []
   },
   "source": [
    "## 📊  Bar Plot Comparing Accuracies of All Models"
   ]
  },
  {
   "cell_type": "code",
   "execution_count": 14,
   "id": "930fd76b",
   "metadata": {
    "execution": {
     "iopub.execute_input": "2025-06-22T16:36:00.142402Z",
     "iopub.status.busy": "2025-06-22T16:36:00.142168Z",
     "iopub.status.idle": "2025-06-22T16:36:00.386820Z",
     "shell.execute_reply": "2025-06-22T16:36:00.386161Z"
    },
    "papermill": {
     "duration": 0.281978,
     "end_time": "2025-06-22T16:36:00.388338",
     "exception": false,
     "start_time": "2025-06-22T16:36:00.106360",
     "status": "completed"
    },
    "tags": []
   },
   "outputs": [
    {
     "data": {
      "image/png": "[encoded data removed]",
      "text/plain": [
       "<Figure size 1000x600 with 1 Axes>"
      ]
     },
     "metadata": {},
     "output_type": "display_data"
    }
   ],
   "source": [
    "import matplotlib.pyplot as plt\n",
    "import seaborn as sns\n",
    "\n",
    "# Sort the results DataFrame by Accuracy descending\n",
    "results_df_sorted = results_df.sort_values(by='Accuracy', ascending=False).reset_index(drop=True)\n",
    "\n",
    "# Plotting\n",
    "plt.figure(figsize=(10,6))\n",
    "sns.barplot(x='Accuracy', y='Model', data=results_df_sorted, palette='viridis')\n",
    "plt.title('Comparison of Model Accuracies', fontsize=14)\n",
    "plt.xlabel('Accuracy')\n",
    "plt.ylabel('Model')\n",
    "plt.grid(axis='x', linestyle='--', alpha=0.5)\n",
    "\n",
    "for i, (acc, model) in enumerate(zip(results_df_sorted['Accuracy'], results_df_sorted['Model'])):\n",
    "    plt.text(acc + 0.002, i, f\"{acc:.4f}\", color='black', va='center')\n",
    "\n",
    "plt.show()"
   ]
  },
  {
   "cell_type": "code",
   "execution_count": 15,
   "id": "4b7f9c72",
   "metadata": {
    "execution": {
     "iopub.execute_input": "2025-06-22T16:36:00.467030Z",
     "iopub.status.busy": "2025-06-22T16:36:00.466752Z",
     "iopub.status.idle": "2025-06-22T16:36:00.473067Z",
     "shell.execute_reply": "2025-06-22T16:36:00.472270Z"
    },
    "papermill": {
     "duration": 0.048635,
     "end_time": "2025-06-22T16:36:00.474486",
     "exception": false,
     "start_time": "2025-06-22T16:36:00.425851",
     "status": "completed"
    },
    "tags": []
   },
   "outputs": [
    {
     "name": "stdout",
     "output_type": "stream",
     "text": [
      "\n",
      "✅ Best Performing Model: Logistic Regression (Tuned)\n",
      "🎯 Accuracy on Test Set: 0.8968\n",
      "\n",
      "📌 Conclusion: The best model is **Logistic Regression (Tuned)**, achieving an accuracy of **0.8968**.\n",
      "Despite using classical ML techniques, proper hyperparameter tuning (GridSearchCV) made this model competitive with deep learning.\n",
      "\n"
     ]
    }
   ],
   "source": [
    "# Extract the Best Model and Accuracy\n",
    "best_model = results_df.iloc[0]['Model']\n",
    "best_accuracy = results_df.iloc[0]['Accuracy']\n",
    "\n",
    "print(f\"\\n✅ Best Performing Model: {best_model}\")\n",
    "print(f\"🎯 Accuracy on Test Set: {best_accuracy:.4f}\")\n",
    "\n",
    "# Detailed Conclusion\n",
    "if 'LSTM' in best_model:\n",
    "    conclusion = f\"\"\"\n",
    "📌 Conclusion: The best model is **{best_model}**, achieving an accuracy of **{best_accuracy:.4f}**.\n",
    "LSTM networks are ideal for capturing sequential dependencies in text, especially in long reviews like those in IMDB dataset.\n",
    "With Dropout layers and EarlyStopping, the model generalized well on unseen test data, avoiding overfitting.\n",
    "\"\"\"\n",
    "elif 'GRU' in best_model:\n",
    "    conclusion = f\"\"\"\n",
    "📌 Conclusion: The best model is **{best_model}**, achieving an accuracy of **{best_accuracy:.4f}**.\n",
    "GRU models, while simpler and faster than LSTMs, still capture temporal dependencies effectively.\n",
    "Dropout layers and EarlyStopping were key in preventing overfitting.\n",
    "\"\"\"\n",
    "elif 'RNN' in best_model:\n",
    "    conclusion = f\"\"\"\n",
    "📌 Conclusion: The best model is **{best_model}**, achieving an accuracy of **{best_accuracy:.4f}**.\n",
    "While simpler than LSTM or GRU, this RNN model performed well thanks to regularization techniques (Dropout + EarlyStopping).\n",
    "\"\"\"\n",
    "else:\n",
    "    conclusion = f\"\"\"\n",
    "📌 Conclusion: The best model is **{best_model}**, achieving an accuracy of **{best_accuracy:.4f}**.\n",
    "Despite using classical ML techniques, proper hyperparameter tuning (GridSearchCV) made this model competitive with deep learning.\n",
    "\"\"\"\n",
    "\n",
    "print(conclusion)\n"
   ]
  }
 ],
 "metadata": {
  "kaggle": {
   "accelerator": "nvidiaTeslaT4",
   "dataSources": [
    {
     "datasetId": 134715,
     "sourceId": 320111,
     "sourceType": "datasetVersion"
    }
   ],
   "dockerImageVersionId": 31041,
   "isGpuEnabled": true,
   "isInternetEnabled": true,
   "language": "python",
   "sourceType": "notebook"
  },
  "kernelspec": {
   "display_name": "Python 3",
   "language": "python",
   "name": "python3"
  },
  "language_info": {
   "codemirror_mode": {
    "name": "ipython",
    "version": 3
   },
   "file_extension": ".py",
   "mimetype": "text/x-python",
   "name": "python",
   "nbconvert_exporter": "python",
   "pygments_lexer": "ipython3",
   "version": "3.11.11"
  },
  "papermill": {
   "default_parameters": {},
   "duration": 182.073451,
   "end_time": "2025-06-22T16:36:03.242624",
   "environment_variables": {},
   "exception": null,
   "input_path": "__notebook__.ipynb",
   "output_path": "__notebook__.ipynb",
   "parameters": {},
   "start_time": "2025-06-22T16:33:01.169173",
   "version": "2.6.0"
  }
 },
 "nbformat": 4,
 "nbformat_minor": 5
}
